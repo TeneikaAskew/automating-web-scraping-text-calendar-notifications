{
  "nbformat": 4,
  "nbformat_minor": 0,
  "metadata": {
    "colab": {
      "provenance": [],
      "authorship_tag": "ABX9TyOjXuvzVYzXRzqjUdr82nXF",
      "include_colab_link": true
    },
    "kernelspec": {
      "name": "python3",
      "display_name": "Python 3"
    },
    "language_info": {
      "name": "python"
    }
  },
  "cells": [
    {
      "cell_type": "markdown",
      "metadata": {
        "id": "view-in-github",
        "colab_type": "text"
      },
      "source": [
        "<a href=\"https://colab.research.google.com/github/TeneikaAskew/automating-web-scraping-text-calendar-notifications/blob/main/1_2_Web_Scraping_with_Texts_and_Calendar_Invites.ipynb\" target=\"_parent\"><img src=\"https://colab.research.google.com/assets/colab-badge.svg\" alt=\"Open In Colab\"/></a>"
      ]
    },
    {
      "cell_type": "markdown",
      "source": [
        "# Python Notebook: Calendar Events and Text Reminder\n",
        "\n",
        "### Developer: Teneika Askew\n",
        "\n",
        "This Python notebook replicates the functionality of a Google Apps Script for creating calendar events and sending reminder texts based on user input. The script interacts with a session data sheet, checks for relevant information such as user readiness, and sends calendar invites and text reminders.\n",
        "\n",
        "### Purpose:\n",
        "1. **Create Calendar Events**: Automatically generates calendar events based on data in the sessions sheet.\n",
        "2. **Send Text Reminders**: Sends SMS or email reminders to users about upcoming sessions.\n",
        "3. **Handle Missing Data**: Logs and skips rows with missing information.\n",
        "4. **Manage Event Updates**: Marks events as \"updated\" once calendar invites and text messages are sent.\n",
        "\n",
        "The script processes session data and sends notifications, which are logged for tracking."
      ],
      "metadata": {
        "id": "8xHXX9teak8e"
      }
    },
    {
      "cell_type": "code",
      "source": [
        " %%javascript\n",
        "function createCalendarEventsAndSendTexts() {\n",
        "  // Access the active spreadsheet and relevant sheets\n",
        "  const sessionsSheet = SpreadsheetApp.getActiveSpreadsheet().getSheetByName(\"Python_Sessions\");\n",
        "  const infoSheet = SpreadsheetApp.getActiveSpreadsheet().getSheetByName(\"Info\");\n",
        "  const calendar = CalendarApp.getDefaultCalendar(); // Access the user's default Google Calendar\n",
        "\n",
        "  // Fetch all data from both sheets\n",
        "  const sessionsData = sessionsSheet.getDataRange().getValues();\n",
        "  const infoData = infoSheet.getDataRange().getValues();\n",
        "\n",
        "  // Identify indices of key columns in the \"Python_Sessions\" sheet\n",
        "  const dateIndex = sessionsData[0].indexOf(\"Date\");\n",
        "  const timeStartIndex = sessionsData[0].indexOf(\"Start Time\");\n",
        "  const timeEndIndex = sessionsData[0].indexOf(\"End Time\");\n",
        "  const titleIndex = sessionsData[0].indexOf(\"Title\");\n",
        "  const descriptionIndex = sessionsData[0].indexOf(\"Description\");\n",
        "  const locationIndex = sessionsData[0].indexOf(\"Location\");\n",
        "  const planningToGoIndex = sessionsData[0].indexOf(\"Planning to Go?\");\n",
        "  const readyToReceiveIndex = infoData[0].indexOf(\"Ready to Receive Invites and Texts?\");\n",
        "\n",
        "  // Fetch phone number from the \"Info\" sheet\n",
        "  const phoneNumber = infoSheet.getRange(\"B3\").getValue(); // Phone number is in cell B3\n",
        "  console.log(phoneNumber); // Log the phone number to verify it's fetched correctly\n",
        "\n",
        "  const textSentIndex = sessionsData[0].indexOf(\"Text Sent\");\n",
        "  const calInviteSentIndex = sessionsData[0].indexOf(\"Calendar Updated\");\n",
        "\n",
        "  // Add missing columns if they don't exist already\n",
        "  let headerUpdated = false;\n",
        "\n",
        "  if (textSentIndex === -1) {\n",
        "    sessionsSheet.getRange(1, sessionsData[0].length + 1).setValue(\"Text Sent\");\n",
        "    textSentIndex = sessionsData[0].length; // Update index to point to the new column\n",
        "    headerUpdated = true;\n",
        "  }\n",
        "\n",
        "  if (calInviteSentIndex === -1) {\n",
        "    sessionsSheet.getRange(1, sessionsData[0].length + (headerUpdated ? 2 : 1)).setValue(\"Calendar Updated\");\n",
        "    calInviteSentIndex = sessionsData[0].length + (headerUpdated ? 1 : 0); // Update index to point to the new column\n",
        "    headerUpdated = true;\n",
        "  }\n",
        "\n",
        "  // Refetch the data if headers were updated to reflect the new columns\n",
        "  if (headerUpdated) {\n",
        "    sessionsData = sessionsSheet.getDataRange().getValues();\n",
        "  }\n",
        "\n",
        "  // Check if any user is ready to receive invites or texts\n",
        "  const readyUsers = infoData.some(row => row[readyToReceiveIndex] === \"Yes\" || row[readyToReceiveIndex] === \"Text Only\" || row[readyToReceiveIndex] === \"Calendar Only\");\n",
        "\n",
        "  if (!readyUsers) {\n",
        "    Logger.log(\"No users are ready to receive invites. Exiting script.\");\n",
        "    return;\n",
        "  } else {\n",
        "    Logger.log(\"Users are ready to receive invites. Continuing script.\");\n",
        "  }\n",
        "\n",
        "  // Initialize a counter for how many sessions are processed\n",
        "  let yesCount = 0;\n",
        "\n",
        "  // Iterate over each session in the \"Python_Sessions\" sheet\n",
        "  for (let i = 1; i < sessionsData.length; i++) {\n",
        "    const row = sessionsData[i];\n",
        "    const title = row[titleIndex];\n",
        "    const date = row[dateIndex];\n",
        "    const startTime = row[timeStartIndex];\n",
        "    const endTime = row[timeEndIndex];\n",
        "    const location = row[locationIndex];\n",
        "    const description = row[descriptionIndex];\n",
        "\n",
        "    // If user is planning to attend and calendar invite has not been sent yet\n",
        "    if (row[planningToGoIndex] === \"Yes\" && row[calInviteSentIndex] !== \"Yes\") {\n",
        "      yesCount++; // Increment the counter\n",
        "\n",
        "      // Validate that all required fields are present\n",
        "      let missingFields = [];\n",
        "      if (!title) missingFields.push(\"Event Title\");\n",
        "      if (!date) missingFields.push(\"Date\");\n",
        "      if (!startTime) missingFields.push(\"Start Time\");\n",
        "      if (!endTime) missingFields.push(\"End Time\");\n",
        "\n",
        "      if (missingFields.length > 0) {\n",
        "        Logger.log(`Skipping row ${i + 1} due to missing fields: ${missingFields.join(\", \")}`);\n",
        "        continue; // Skip the current iteration if required fields are missing\n",
        "      }\n",
        "\n",
        "      // Parse the start and end times\n",
        "      const parsedDate = new Date(date);\n",
        "      const [startHour, startMinute] = parseTime(startTime);\n",
        "      const [endHour, endMinute] = parseTime(endTime);\n",
        "\n",
        "      const startDate = new Date(parsedDate.getFullYear(), parsedDate.getMonth(), parsedDate.getDate(), startHour, startMinute);\n",
        "      const endDate = new Date(parsedDate.getFullYear(), parsedDate.getMonth(), parsedDate.getDate(), endHour, endMinute);\n",
        "\n",
        "      // Create the calendar event\n",
        "      calendar.createEvent(title, startDate, endDate, {\n",
        "        location: location,\n",
        "        description: description,\n",
        "      });\n",
        "\n",
        "      // Mark the \"Calendar Updated\" column as \"Yes\" for the current session\n",
        "      sessionsSheet.getRange(i + 1, calInviteSentIndex + 1).setValue(\"Yes\");\n",
        "      Logger.log(`Event created: ${title} on ${startDate}`);\n",
        "    }\n",
        "\n",
        "    // If user is planning to attend and text hasn't been sent yet\n",
        "    if (row[planningToGoIndex] === \"Yes\" && row[textSentIndex] !== \"Yes\") {\n",
        "      if (phoneNumber) {\n",
        "        const message = `TG Summit: ${title} was added to your calendar. You'll receive a reminder 10 minutes before the session. Check your calendar for details!`;\n",
        "\n",
        "        // Send the text reminder (via email to phone number)\n",
        "        MailApp.sendEmail({\n",
        "          to: phoneNumber,\n",
        "          subject: \"Event Reminder\",\n",
        "          body: message,\n",
        "        });\n",
        "\n",
        "        // Mark the \"Text Sent\" column as \"Yes\"\n",
        "        sessionsSheet.getRange(i + 1, textSentIndex + 1).setValue(\"Yes\");\n",
        "        Logger.log(`Text sent to ${phoneNumber} for row ${i + 1}`);\n",
        "      } else {\n",
        "        Logger.log(`No phone number found for row ${i + 1}. Skipping text.`);\n",
        "      }\n",
        "    }\n",
        "  }\n",
        "\n",
        "  // Log the total number of reminders sent\n",
        "  Logger.log(`Total event reminders created/sent: ${yesCount}`);\n",
        "}\n",
        "\n",
        "// Function to parse time strings like \"1:45pm\" into hour and minute\n",
        "function parseTime(timeString) {\n",
        "  const timeMatch = timeString.match(/(\\d+):(\\d+)([ap]m)/i);\n",
        "  if (!timeMatch) throw new Error(`Invalid time format: ${timeString}`);\n",
        "\n",
        "  let hour = parseInt(timeMatch[1], 10);\n",
        "  const minute = parseInt(timeMatch[2], 10);\n",
        "  const period = timeMatch[3].toLowerCase();\n",
        "\n",
        "  if (period === \"pm\" && hour < 12) hour += 12; // Convert PM to 24-hour time\n",
        "  if (period === \"am\" && hour === 12) hour = 0; // Handle midnight\n",
        "\n",
        "  return [hour, minute];\n",
        "}"
      ],
      "metadata": {
        "id": "JNE_hUV4a3M6"
      },
      "execution_count": null,
      "outputs": []
    },
    {
      "cell_type": "markdown",
      "source": [
        "## Function: `createCalendarEventsAndSendTexts()`\n",
        "\n",
        "### Purpose:\n",
        "The `createCalendarEventsAndSendTexts()` function is responsible for automating the process of creating calendar events and sending text or email reminders for users based on data from a Google Spreadsheet. Specifically, it does the following:\n",
        "- Creates calendar events based on session details (e.g., title, date, time, location).\n",
        "- Sends text reminders (via email to phone numbers) to users who have marked that they are attending specific sessions.\n",
        "- Updates the spreadsheet to reflect that calendar invites and text reminders have been sent.\n",
        "\n",
        "### Breakdown of the Function:\n",
        "\n",
        "\n",
        "\n",
        "\n"
      ],
      "metadata": {
        "id": "w7CWAsNSbOER"
      }
    },
    {
      "cell_type": "markdown",
      "source": [
        "1. **Fetching Data:**\n",
        "   - The function begins by accessing two sheets in the Google Spreadsheet:\n",
        "     - **Python_Sessions**: Contains session details (e.g., date, start time, title, description).\n",
        "     - **Info**: Contains user details (e.g., phone number and whether they are ready to receive invites/texts).\n",
        "   - The `getDataRange().getValues()` method is used to fetch all the data from these sheets into arrays for further processing.\n"
      ],
      "metadata": {
        "id": "2zrFDSDwbhP3"
      }
    },
    {
      "cell_type": "code",
      "source": [
        "%%javascript\n",
        "// Access the active spreadsheet and relevant sheets\n",
        "  const sessionsSheet = SpreadsheetApp.getActiveSpreadsheet().getSheetByName(\"Python_Sessions\");\n",
        "  const infoSheet = SpreadsheetApp.getActiveSpreadsheet().getSheetByName(\"Info\");\n",
        "  const calendar = CalendarApp.getDefaultCalendar(); // Access the user's default Google Calendar\n",
        "\n",
        "  // Fetch all data from both sheets\n",
        "  const sessionsData = sessionsSheet.getDataRange().getValues();\n",
        "  const infoData = infoSheet.getDataRange().getValues();\n"
      ],
      "metadata": {
        "id": "F49bp7I4bt40"
      },
      "execution_count": null,
      "outputs": []
    },
    {
      "cell_type": "markdown",
      "source": [
        "2. **Finding Column Indices:**\n",
        "   - The function finds the indices of relevant columns within the `sessionsData` array (from the `Python_Sessions` sheet), including columns for date, start time, end time, title, description, location, and others.\n",
        "   - It also identifies the column index for \"Ready to Receive Invites and Texts?\" in the `infoData` array (from the `Info` sheet) to determine which users are ready to receive invites or reminders.\n"
      ],
      "metadata": {
        "id": "2MLeU770bhNI"
      }
    },
    {
      "cell_type": "code",
      "source": [
        "%%javascript\n",
        "// Identify indices of key columns in the \"Python_Sessions\" sheet\n",
        "  const dateIndex = sessionsData[0].indexOf(\"Date\");\n",
        "  const timeStartIndex = sessionsData[0].indexOf(\"Start Time\");\n",
        "  const timeEndIndex = sessionsData[0].indexOf(\"End Time\");\n",
        "  const titleIndex = sessionsData[0].indexOf(\"Title\");\n",
        "  const descriptionIndex = sessionsData[0].indexOf(\"Description\");\n",
        "  const locationIndex = sessionsData[0].indexOf(\"Location\");\n",
        "  const planningToGoIndex = sessionsData[0].indexOf(\"Planning to Go?\");\n",
        "  const readyToReceiveIndex = infoData[0].indexOf(\"Ready to Receive Invites and Texts?\");\n"
      ],
      "metadata": {
        "id": "lHi57RJybyND"
      },
      "execution_count": null,
      "outputs": []
    },
    {
      "cell_type": "markdown",
      "source": [
        "3. **Phone Number Fetch:**\n",
        "   - The function retrieves the phone number from cell `B3` in the `Info` sheet, which will be used to send text reminders if applicable.\n"
      ],
      "metadata": {
        "id": "CDa1mWo4bhKx"
      }
    },
    {
      "cell_type": "code",
      "source": [
        "%%javascript\n",
        " // Fetch phone number from the \"Info\" sheet\n",
        "  const phoneNumber = infoSheet.getRange(\"B3\").getValue(); // Phone number is in cell B3\n",
        "  console.log(phoneNumber); // Log the phone number to verify it's fetched correctly\n",
        ""
      ],
      "metadata": {
        "id": "tUV2izlvby1z"
      },
      "execution_count": null,
      "outputs": []
    },
    {
      "cell_type": "markdown",
      "source": [
        "\n",
        "4. **Column Checks and Additions:**\n",
        "   - The function checks if certain columns (\"Text Sent\" and \"Calendar Updated\") exist in the `sessionsData` array. If they don't, it adds them to the sheet and updates the relevant indices."
      ],
      "metadata": {
        "id": "hjQD404HbhFU"
      }
    },
    {
      "cell_type": "code",
      "source": [
        "%%javascript\n",
        "  const textSentIndex = sessionsData[0].indexOf(\"Text Sent\");\n",
        "  const calInviteSentIndex = sessionsData[0].indexOf(\"Calendar Updated\");\n",
        "\n",
        "  // Add missing columns if they don't exist already\n",
        "  let headerUpdated = false;\n",
        "\n",
        "  if (textSentIndex === -1) {\n",
        "    sessionsSheet.getRange(1, sessionsData[0].length + 1).setValue(\"Text Sent\");\n",
        "    textSentIndex = sessionsData[0].length; // Update index to point to the new column\n",
        "    headerUpdated = true;\n",
        "  }\n",
        "\n",
        "  if (calInviteSentIndex === -1) {\n",
        "    sessionsSheet.getRange(1, sessionsData[0].length + (headerUpdated ? 2 : 1)).setValue(\"Calendar Updated\");\n",
        "    calInviteSentIndex = sessionsData[0].length + (headerUpdated ? 1 : 0); // Update index to point to the new column\n",
        "    headerUpdated = true;\n",
        "  }\n",
        "\n",
        "  // Refetch the data if headers were updated to reflect the new columns\n",
        "  if (headerUpdated) {\n",
        "    sessionsData = sessionsSheet.getDataRange().getValues();\n",
        "  }"
      ],
      "metadata": {
        "id": "mgTo5-59bzW0"
      },
      "execution_count": null,
      "outputs": []
    },
    {
      "cell_type": "markdown",
      "source": [
        "5. **User Readiness Check:**\n",
        "   - The function checks whether any users are marked as ready to receive invites or texts. If no users are ready, the function exits early. If users are ready, the script continues with processing."
      ],
      "metadata": {
        "id": "j2vZf8xebQ22"
      }
    },
    {
      "cell_type": "code",
      "source": [
        "%%javascript\n",
        " // Check if any user is ready to receive invites or texts\n",
        "  const readyUsers = infoData.some(row => row[readyToReceiveIndex] === \"Yes\" || row[readyToReceiveIndex] === \"Text Only\" || row[readyToReceiveIndex] === \"Calendar Only\");\n",
        "\n",
        "  if (!readyUsers) {\n",
        "    Logger.log(\"No users are ready to receive invites. Exiting script.\");\n",
        "    return;\n",
        "  } else {\n",
        "    Logger.log(\"Users are ready to receive invites. Continuing script.\");\n",
        "  }"
      ],
      "metadata": {
        "id": "u67teUp2bz6Z"
      },
      "execution_count": null,
      "outputs": []
    },
    {
      "cell_type": "markdown",
      "source": [
        "6. **Processing Each Session:**\n",
        "   - The function then loops through each row of session data (starting from the second row to skip the header).\n",
        "   - For each session, it checks if the user is planning to attend (`\"Planning to Go?\"` column) and whether a calendar invite has already been sent.\n",
        "   - If the user is attending and the calendar invite has not been sent:\n",
        "     - The function validates that all required fields (e.g., title, date, start time, end time) are present. If any fields are missing, it logs an error and skips the session.\n",
        "     - The start and end times are parsed from string format (e.g., \"1:45pm\") into `Date` objects using the `parseTime()` helper function.\n",
        "     - A calendar event is created using the `CalendarApp.createEvent()` method, and the \"Calendar Updated\" column is marked as \"Yes\" to indicate that an invite has been sent."
      ],
      "metadata": {
        "id": "gipljJwQbQ0R"
      }
    },
    {
      "cell_type": "code",
      "source": [
        "%%javascript\n",
        "// Initialize a counter for how many sessions are processed\n",
        "  let yesCount = 0;\n",
        "\n",
        "  // Iterate over each session in the \"Python_Sessions\" sheet\n",
        "  for (let i = 1; i < sessionsData.length; i++) {\n",
        "    const row = sessionsData[i];\n",
        "    const title = row[titleIndex];\n",
        "    const date = row[dateIndex];\n",
        "    const startTime = row[timeStartIndex];\n",
        "    const endTime = row[timeEndIndex];\n",
        "    const location = row[locationIndex];\n",
        "    const description = row[descriptionIndex];\n",
        "\n",
        "    // If user is planning to attend and calendar invite has not been sent yet\n",
        "    if (row[planningToGoIndex] === \"Yes\" && row[calInviteSentIndex] !== \"Yes\") {\n",
        "      yesCount++; // Increment the counter\n",
        "\n",
        "      // Validate that all required fields are present\n",
        "      let missingFields = [];\n",
        "      if (!title) missingFields.push(\"Event Title\");\n",
        "      if (!date) missingFields.push(\"Date\");\n",
        "      if (!startTime) missingFields.push(\"Start Time\");\n",
        "      if (!endTime) missingFields.push(\"End Time\");\n",
        "\n",
        "      if (missingFields.length > 0) {\n",
        "        Logger.log(`Skipping row ${i + 1} due to missing fields: ${missingFields.join(\", \")}`);\n",
        "        continue; // Skip the current iteration if required fields are missing\n",
        "      }\n",
        "\n",
        "      // Parse the start and end times\n",
        "      const parsedDate = new Date(date);\n",
        "      const [startHour, startMinute] = parseTime(startTime);\n",
        "      const [endHour, endMinute] = parseTime(endTime);\n",
        "\n",
        "      const startDate = new Date(parsedDate.getFullYear(), parsedDate.getMonth(), parsedDate.getDate(), startHour, startMinute);\n",
        "      const endDate = new Date(parsedDate.getFullYear(), parsedDate.getMonth(), parsedDate.getDate(), endHour, endMinute);\n",
        "\n",
        "      // Create the calendar event\n",
        "      calendar.createEvent(title, startDate, endDate, {\n",
        "        location: location,\n",
        "        description: description,\n",
        "      });\n",
        "\n",
        "      // Mark the \"Calendar Updated\" column as \"Yes\" for the current session\n",
        "      sessionsSheet.getRange(i + 1, calInviteSentIndex + 1).setValue(\"Yes\");\n",
        "      Logger.log(`Event created: ${title} on ${startDate}`);\n",
        "    }\n"
      ],
      "metadata": {
        "id": "CHTk7tacb0eg"
      },
      "execution_count": null,
      "outputs": []
    },
    {
      "cell_type": "markdown",
      "source": [
        " 7. **Sending Text Reminders:**\n",
        "   - If the user is attending and a text reminder has not been sent, the function sends an email to the provided phone number (using `MailApp.sendEmail()`) with a reminder about the session. The \"Text Sent\" column is then updated to \"Yes\" to indicate that the reminder has been sent."
      ],
      "metadata": {
        "id": "5TlNntCLbQwt"
      }
    },
    {
      "cell_type": "code",
      "source": [
        "%%javascript\n",
        "// If user is planning to attend and text hasn't been sent yet\n",
        "    if (row[planningToGoIndex] === \"Yes\" && row[textSentIndex] !== \"Yes\") {\n",
        "      if (phoneNumber) {\n",
        "        const message = `TG Summit: ${title} was added to your calendar. You'll receive a reminder 10 minutes before the session. Check your calendar for details!`;\n",
        "\n",
        "        // Send the text reminder (via email to phone number)\n",
        "        MailApp.sendEmail({\n",
        "          to: phoneNumber,\n",
        "          subject: \"Event Reminder\",\n",
        "          body: message,\n",
        "        });\n",
        "\n",
        "        // Mark the \"Text Sent\" column as \"Yes\"\n",
        "        sessionsSheet.getRange(i + 1, textSentIndex + 1).setValue(\"Yes\");\n",
        "        Logger.log(`Text sent to ${phoneNumber} for row ${i + 1}`);\n",
        "      } else {\n",
        "        Logger.log(`No phone number found for row ${i + 1}. Skipping text.`);\n",
        "      }\n",
        "    }\n",
        "  }"
      ],
      "metadata": {
        "id": "JyJ_7VYGb1fW"
      },
      "execution_count": null,
      "outputs": []
    },
    {
      "cell_type": "markdown",
      "source": [
        "8. **Logging:**\n",
        "   - Throughout the function, `Logger.log()` is used to log useful information for debugging and tracking, such as the number of events created and reminders sent."
      ],
      "metadata": {
        "id": "tX8iUbTsbQqT"
      }
    },
    {
      "cell_type": "code",
      "source": [
        "%%javascript\n",
        "// Log the total number of reminders sent\n",
        "  Logger.log(`Total event reminders created/sent: ${yesCount}`);\n",
        "}\n"
      ],
      "metadata": {
        "id": "-Fqgox_nb2De"
      },
      "execution_count": null,
      "outputs": []
    },
    {
      "cell_type": "markdown",
      "source": [
        "### Example of Workflow:\n",
        "- **Input:** A user in the `Info` sheet is marked as \"Yes\" under \"Ready to Receive Invites and Texts?\". A session in the `Python_Sessions` sheet has the \"Planning to Go?\" column set to \"Yes\", but the calendar invite and text reminder have not yet been sent.\n",
        "- **Process:** The function creates a calendar event for the session and sends a reminder text/email to the user.\n",
        "- **Output:** The session's \"Calendar Updated\" and \"Text Sent\" columns are updated, and the user receives a reminder."
      ],
      "metadata": {
        "id": "NkyKngzNbQjU"
      }
    },
    {
      "cell_type": "code",
      "source": [
        "%%javascript"
      ],
      "metadata": {
        "id": "fse1wl0bb2rV"
      },
      "execution_count": null,
      "outputs": []
    },
    {
      "cell_type": "markdown",
      "source": [
        "### Helper Function: `parseTime()`\n",
        "- This helper function is used to convert a time string like `\"1:45pm\"` into a 24-hour time format that can be used for creating `Date` objects. It accounts for both AM/PM time formats and handles edge cases like midnight (`12:00am`).\n",
        "\n",
        "\n",
        "\n",
        "\n",
        "\n",
        "\n",
        "\n",
        "\n",
        "\n",
        "\n",
        "\n"
      ],
      "metadata": {
        "id": "2cy-7KuBbQOw"
      }
    },
    {
      "cell_type": "code",
      "source": [
        "%%javascript\n",
        "// Function to parse time strings like \"1:45pm\" into hour and minute\n",
        "function parseTime(timeString) {\n",
        "  const timeMatch = timeString.match(/(\\d+):(\\d+)([ap]m)/i);\n",
        "  if (!timeMatch) throw new Error(`Invalid time format: ${timeString}`);\n",
        "\n",
        "  let hour = parseInt(timeMatch[1], 10);\n",
        "  const minute = parseInt(timeMatch[2], 10);\n",
        "  const period = timeMatch[3].toLowerCase();\n",
        "\n",
        "  if (period === \"pm\" && hour < 12) hour += 12; // Convert PM to 24-hour time\n",
        "  if (period === \"am\" && hour === 12) hour = 0; // Handle midnight\n"
      ],
      "metadata": {
        "id": "8ABl7LjCbNck"
      },
      "execution_count": null,
      "outputs": []
    }
  ]
}